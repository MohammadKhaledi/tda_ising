{
 "cells": [
  {
   "cell_type": "code",
   "execution_count": 43,
   "metadata": {},
   "outputs": [
    {
     "name": "stdout",
     "output_type": "stream",
     "text": [
      "<2,3> 0\n",
      "<1,3> 0\n",
      "<1,2> 0\n"
     ]
    }
   ],
   "source": [
    "#simplices Ex.\n",
    "import dionysus as d\n",
    "import numpy as np\n",
    "import matplotlib.pyplot as plt\n",
    "#################################\n",
    "v=np.array([1,2,3])\n",
    "s=d.Simplex(v)\n",
    "for sb in s.boundary():\n",
    "   print(sb)\n",
    "sv=d.closure([d.Simplex(v)],2)\n",
    "\n",
    "  "
   ]
  },
  {
   "cell_type": "code",
   "execution_count": null,
   "metadata": {},
   "outputs": [],
   "source": [
    "pr=[]\n",
    "num=[]\n",
    "\n",
    "f=d.fill_rips( np.random.random((10, 2)),3,1)\n",
    "m=d.homology_persistence(f)\n",
    "dgms = d.init_diagrams(m, f)\n",
    "print(dgms)\n",
    "for i, dgm in enumerate(dgms):\n",
    "    for pt in dgm:\n",
    "        pr.append(pt.death- pt.birth)\n",
    "        \n",
    "print(pr)        \n",
    "#d.plot.plot_diagram(dgms[3], show = True)\n",
    "#d.plot.plot_bars(dgms[0],order = 'birth', show = True)\n"
   ]
  },
  {
   "cell_type": "code",
   "execution_count": null,
   "metadata": {},
   "outputs": [],
   "source": []
  },
  {
   "cell_type": "code",
   "execution_count": null,
   "metadata": {},
   "outputs": [],
   "source": []
  }
 ],
 "metadata": {
  "kernelspec": {
   "display_name": "Python 3",
   "language": "python",
   "name": "python3"
  },
  "language_info": {
   "codemirror_mode": {
    "name": "ipython",
    "version": 3
   },
   "file_extension": ".py",
   "mimetype": "text/x-python",
   "name": "python",
   "nbconvert_exporter": "python",
   "pygments_lexer": "ipython3",
   "version": "3.7.0"
  }
 },
 "nbformat": 4,
 "nbformat_minor": 2
}
