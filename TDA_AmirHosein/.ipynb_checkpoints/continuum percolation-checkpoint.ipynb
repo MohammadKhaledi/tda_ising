{
 "cells": [
  {
   "cell_type": "code",
   "execution_count": 5,
   "metadata": {},
   "outputs": [
    {
     "ename": "IndentationError",
     "evalue": "unexpected indent (<ipython-input-5-cd29ab94cd21>, line 56)",
     "output_type": "error",
     "traceback": [
      "\u001b[0;36m  File \u001b[0;32m\"<ipython-input-5-cd29ab94cd21>\"\u001b[0;36m, line \u001b[0;32m56\u001b[0m\n\u001b[0;31m    rc.append((pt.birth)**2*n*pi)\u001b[0m\n\u001b[0m    ^\u001b[0m\n\u001b[0;31mIndentationError\u001b[0m\u001b[0;31m:\u001b[0m unexpected indent\n"
     ]
    }
   ],
   "source": [
    "import numpy as np\n",
    "import random as rnd\n",
    "import matplotlib.pyplot as plt\n",
    "from math import *\n",
    "import dionysus as sus\n",
    "#distance condition\n",
    "def distcond(p1,p2,r):\n",
    "    d=np.sqrt(np.sum((p1-p2)**2))\n",
    "    if d<=2*r :\n",
    "        return True\n",
    "    else:\n",
    "        return False\n",
    "#point generations\n",
    "def pg(n,d):\n",
    "    return np.random.random((n,d))\n",
    "#index list\n",
    "def il(n):\n",
    "    l=[]\n",
    "    for i in range(0,n):\n",
    "        l.append (i)\n",
    "    return np.array(l)    \n",
    "#root and cluster finding\n",
    "def rc(p,il,n):\n",
    "    \n",
    "    for i in range (0,n):\n",
    "        for j in range(1,n):\n",
    "            if il[i]==il[j]:continue\n",
    "            elif distcond(p[i],p[j],r) : il[il==max(il[i],il[j])]=min(il[i],il[j])\n",
    "    cluster={} \n",
    "    j=0\n",
    "    lengh=[]\n",
    "    for i in range (0,n) :\n",
    "        if i in il:\n",
    "            \n",
    "            cluster[j]= p[il==i]\n",
    "            lengh.append(len(p[il==i]))\n",
    "            j=j+1\n",
    "# finding each cluster ,cluster with maximum size, cluster max        \n",
    "    return cluster , np.max(lengh) , cluster[lengh.index( np.max(lengh))]\n",
    "# persistence distribution\n",
    "def pd(p,d,mr,n):\n",
    "        f=sus.fill_rips(p,d,mr)\n",
    "        m=sus.homology_persistence(f)\n",
    "        dgms = sus.init_diagrams(m, f)\n",
    "        I=[]\n",
    "        persist=[]\n",
    "        rc=[]\n",
    "        for i, dgm in enumerate(dgms):\n",
    "    \n",
    "               for pt in dgm:\n",
    "            \n",
    "                      I.append(i)\n",
    "                #rescaling\n",
    "                      persist.append(n*pi*((pt.death)**2-(pt.birth)**2))\n",
    "                #rescaling     \n",
    "                        rc.append((pt.birth)**2*n*pi)\n",
    "#removing inf persistence      \n",
    "        pa=[]\n",
    "        ra=[]\n",
    "        for i in range (0, len(persist)):\n",
    "             if persist[i]!= inf and I[i]==1:\n",
    "                    pa.append(persist[i])\n",
    "                    ra.append(rc[i])\n",
    "        return ra , pa       \n",
    "       "
   ]
  },
  {
   "cell_type": "code",
   "execution_count": 6,
   "metadata": {},
   "outputs": [
    {
     "ename": "NameError",
     "evalue": "name 'lenth' is not defined",
     "output_type": "error",
     "traceback": [
      "\u001b[0;31m---------------------------------------------------------------------------\u001b[0m",
      "\u001b[0;31mNameError\u001b[0m                                 Traceback (most recent call last)",
      "\u001b[0;32m<ipython-input-6-61f66f3d81c5>\u001b[0m in \u001b[0;36m<module>\u001b[0;34m()\u001b[0m\n\u001b[1;32m      6\u001b[0m             \u001b[0mr\u001b[0m\u001b[0;34m=\u001b[0m\u001b[0;36m.001\u001b[0m\u001b[0;34m*\u001b[0m\u001b[0mi\u001b[0m\u001b[0;34m\u001b[0m\u001b[0m\n\u001b[1;32m      7\u001b[0m \u001b[0;34m\u001b[0m\u001b[0m\n\u001b[0;32m----> 8\u001b[0;31m             \u001b[0mcl\u001b[0m\u001b[0;34m=\u001b[0m\u001b[0mrc\u001b[0m\u001b[0;34m(\u001b[0m\u001b[0mp\u001b[0m\u001b[0;34m,\u001b[0m\u001b[0mil\u001b[0m\u001b[0;34m(\u001b[0m\u001b[0mn\u001b[0m\u001b[0;34m)\u001b[0m\u001b[0;34m,\u001b[0m\u001b[0mn\u001b[0m\u001b[0;34m)\u001b[0m\u001b[0;34m\u001b[0m\u001b[0m\n\u001b[0m\u001b[1;32m      9\u001b[0m \u001b[0;31m#rescaling r\u001b[0m\u001b[0;34m\u001b[0m\u001b[0;34m\u001b[0m\u001b[0m\n\u001b[1;32m     10\u001b[0m             \u001b[0mrt\u001b[0m\u001b[0;34m.\u001b[0m\u001b[0mappend\u001b[0m\u001b[0;34m(\u001b[0m\u001b[0mr\u001b[0m\u001b[0;34m**\u001b[0m\u001b[0;36m2\u001b[0m\u001b[0;34m*\u001b[0m\u001b[0mn\u001b[0m\u001b[0;34m*\u001b[0m\u001b[0mpi\u001b[0m\u001b[0;34m)\u001b[0m\u001b[0;34m\u001b[0m\u001b[0m\n",
      "\u001b[0;32m<ipython-input-1-748685b01a14>\u001b[0m in \u001b[0;36mrc\u001b[0;34m(p, il, n)\u001b[0m\n\u001b[1;32m     37\u001b[0m             \u001b[0mj\u001b[0m\u001b[0;34m=\u001b[0m\u001b[0mj\u001b[0m\u001b[0;34m+\u001b[0m\u001b[0;36m1\u001b[0m\u001b[0;34m\u001b[0m\u001b[0m\n\u001b[1;32m     38\u001b[0m \u001b[0;31m# finding each cluster ,cluster with maximum size, cluster max\u001b[0m\u001b[0;34m\u001b[0m\u001b[0;34m\u001b[0m\u001b[0m\n\u001b[0;32m---> 39\u001b[0;31m     \u001b[0;32mreturn\u001b[0m \u001b[0mcluster\u001b[0m \u001b[0;34m,\u001b[0m \u001b[0mnp\u001b[0m\u001b[0;34m.\u001b[0m\u001b[0mmax\u001b[0m\u001b[0;34m(\u001b[0m\u001b[0mlengh\u001b[0m\u001b[0;34m)\u001b[0m \u001b[0;34m,\u001b[0m \u001b[0mcluster\u001b[0m\u001b[0;34m[\u001b[0m\u001b[0mlengh\u001b[0m\u001b[0;34m.\u001b[0m\u001b[0mindex\u001b[0m\u001b[0;34m(\u001b[0m \u001b[0mnp\u001b[0m\u001b[0;34m.\u001b[0m\u001b[0mmax\u001b[0m\u001b[0;34m(\u001b[0m\u001b[0mlenth\u001b[0m\u001b[0;34m)\u001b[0m\u001b[0;34m)\u001b[0m\u001b[0;34m]\u001b[0m\u001b[0;34m\u001b[0m\u001b[0m\n\u001b[0m\u001b[1;32m     40\u001b[0m \u001b[0;31m# persistence distribution\u001b[0m\u001b[0;34m\u001b[0m\u001b[0;34m\u001b[0m\u001b[0m\n\u001b[1;32m     41\u001b[0m \u001b[0;32mdef\u001b[0m \u001b[0mpd\u001b[0m\u001b[0;34m(\u001b[0m\u001b[0mp\u001b[0m\u001b[0;34m,\u001b[0m\u001b[0md\u001b[0m\u001b[0;34m,\u001b[0m\u001b[0mmr\u001b[0m\u001b[0;34m,\u001b[0m\u001b[0mn\u001b[0m\u001b[0;34m)\u001b[0m\u001b[0;34m:\u001b[0m\u001b[0;34m\u001b[0m\u001b[0m\n",
      "\u001b[0;31mNameError\u001b[0m: name 'lenth' is not defined"
     ]
    }
   ],
   "source": [
    "n=100\n",
    "d=2\n",
    "p=pg(n,d)\n",
    "# finding maximum size of cluster in each radi \n",
    "for i in range (0,40):\n",
    "            r=.001*i\n",
    "           \n",
    "            cl=rc(p,il(n),n)\n",
    "#rescaling r           \n",
    "            rt.append(r**2*n*pi)\n",
    "#re scaling max size as same as order of persistence           \n",
    "            m.append(cl[1]/5)\n",
    "np.save(\"max size\",m)\n",
    "np.save(\"relative rc\",rt)            \n",
    "# distribution of persistance of H1 in each radi\n",
    "dp=pd(p,d,.1,n)\n",
    "ra=dp[0]\n",
    "pa=dp[1]\n",
    "np.save(\"persistence\",pa) \n",
    "np.save(\"relative r\",ra)\n",
    "# plotting max size of clustter with radi\n",
    "plt.scatter(rt,m)\n",
    "#plotting hexagonal binning of persistence with r\n",
    "df=pd.DataFrame( {'f(r)':ra,'persistence':pa})\n",
    "ax=df.plot.hexbin(x='f(r)',y='persistence',gridsize=25)\n",
    "plt.show()\n",
    "\n"
   ]
  },
  {
   "cell_type": "code",
   "execution_count": null,
   "metadata": {},
   "outputs": [],
   "source": []
  }
 ],
 "metadata": {
  "kernelspec": {
   "display_name": "Python 3",
   "language": "python",
   "name": "python3"
  },
  "language_info": {
   "codemirror_mode": {
    "name": "ipython",
    "version": 3
   },
   "file_extension": ".py",
   "mimetype": "text/x-python",
   "name": "python",
   "nbconvert_exporter": "python",
   "pygments_lexer": "ipython3",
   "version": "3.7.0"
  }
 },
 "nbformat": 4,
 "nbformat_minor": 2
}
