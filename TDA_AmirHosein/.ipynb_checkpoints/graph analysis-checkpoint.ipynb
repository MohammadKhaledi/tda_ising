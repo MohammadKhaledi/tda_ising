{
 "cells": [
  {
   "cell_type": "code",
   "execution_count": 19,
   "metadata": {},
   "outputs": [],
   "source": [
    "import numpy as np\n",
    "from scipy.sparse import csr_matrix\n",
    "from scipy.sparse.csgraph import shortest_path\n",
    "\n",
    "def sdgraph(W,m):\n",
    "              graph =w\n",
    "              graph = shortest_path(graph,method=m, directed=False)\n",
    "              return graph\n"
   ]
  },
  {
   "cell_type": "code",
   "execution_count": 12,
   "metadata": {},
   "outputs": [
    {
     "ename": "SyntaxError",
     "evalue": "unexpected EOF while parsing (<ipython-input-12-8bd0c6e86425>, line 14)",
     "output_type": "error",
     "traceback": [
      "\u001b[0;36m  File \u001b[0;32m\"<ipython-input-12-8bd0c6e86425>\"\u001b[0;36m, line \u001b[0;32m14\u001b[0m\n\u001b[0;31m    plt.show(\u001b[0m\n\u001b[0m             ^\u001b[0m\n\u001b[0;31mSyntaxError\u001b[0m\u001b[0;31m:\u001b[0m unexpected EOF while parsing\n"
     ]
    }
   ],
   "source": [
    "import dionysus as d\n",
    "import numpy as np \n",
    "from scipy.spatial.distance import pdist ,squareform\n",
    "W=\n",
    "m=\n",
    "W=sdgraph(W,m)\n",
    "sq_dist = squareform(W)\n",
    "f = d.fill_rips(sq_dist, 2, np.max(W)) # creates the k-skeleton of the Vietoris-Rips filtration (edge weight filtration) of the graph\n",
    "m = d.homology_persistence(f) # calculates persistent homology\n",
    "dgms = d.init_diagrams(m, f)\n",
    "for i, dgm in enumerate(dgms):\n",
    "        print(\"Dimension:\", i)\n",
    "        for p in dgm:\n",
    "            print(p)\n",
    "d.plot.plot_bars(dgms[0],order = 'birth', show = True)\n",
    "plt.show()"
   ]
  },
  {
   "cell_type": "code",
   "execution_count": null,
   "metadata": {},
   "outputs": [],
   "source": []
  }
 ],
 "metadata": {
  "kernelspec": {
   "display_name": "Python 3",
   "language": "python",
   "name": "python3"
  },
  "language_info": {
   "codemirror_mode": {
    "name": "ipython",
    "version": 3
   },
   "file_extension": ".py",
   "mimetype": "text/x-python",
   "name": "python",
   "nbconvert_exporter": "python",
   "pygments_lexer": "ipython3",
   "version": "3.7.0"
  }
 },
 "nbformat": 4,
 "nbformat_minor": 2
}
