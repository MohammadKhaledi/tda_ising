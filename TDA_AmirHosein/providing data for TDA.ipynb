{
 "cells": [
  {
   "cell_type": "code",
   "execution_count": 4,
   "metadata": {},
   "outputs": [],
   "source": [
    "import numpy as np\n",
    "import random as rnd\n",
    "\n",
    "import dionysus as sus\n",
    "import matplotlib.pyplot as plt\n",
    "from math import *\n",
    "import pandas as pd\n",
    "#after read data with numpy\n",
    "def embedding(data,method,t):\n",
    "    x,y,z=[],[],[]\n",
    "    n=data.shape[0]\n",
    "    if method ==0 :\n",
    "        for i in range(0,n):\n",
    "            for j in range (0,n):\n",
    "                x.append(i/n*2)\n",
    "                y.append(j/n*2)\n",
    "                z.append(data[i][j])\n",
    "        return np.array(list(zip(x,y,z)))   \n",
    "    else :\n",
    "        for k in range(0,n):\n",
    "            for m in range (0,n):\n",
    "                if data[k][m] >= t:\n",
    "                    x.append(k/n*2)\n",
    "                    y.append(m/n*2)\n",
    "        return  np.array(list(zip(x,y)))\n",
    "        \n",
    "        \n",
    "    "
   ]
  },
  {
   "cell_type": "code",
   "execution_count": null,
   "metadata": {},
   "outputs": [],
   "source": [
    "data=np.loadtxt('gaussian_2.txt')\n",
    "method=0\n",
    "t=1\n",
    "p=embedding(data,method,t)\n",
    "print(np.shape(p))\n",
    "f=sus.fill_rips(p,2,.0000001)\n",
    "m=sus.homology_persistence(f)\n",
    "dgms = sus.init_diagrams(m, f)\n",
    "I=[]\n",
    "persist=[]\n",
    "r=[]\n",
    "for i, dgm in enumerate(dgms):\n",
    "    \n",
    "        for pt in dgm:\n",
    "            \n",
    "                I.append(i)\n",
    "                persist.append(((pt.death/2)-(pt.birth/2)))\n",
    "                r.append(((pt.birth/2)))\n",
    "pa=[]\n",
    "ra=[]\n",
    "rb=[]\n",
    "pb=[]\n",
    "np.save(\"persist_cmd\", persist) \n",
    "np.save(\"relative r_cmd\",r)\n",
    "for i in range (0, len(persist)):\n",
    "    if persist[i]!= inf and I[i]==1:\n",
    "        pa.append(persist[i])\n",
    "        ra.append(r[i])\n",
    "    elif  persist[i]== inf and I[i]==1:\n",
    "        pb.append(8)\n",
    "        rb.append(r[i])\n",
    "a=np.array(pa)\n",
    "b=np.array(ra)\n",
    "plt.scatter(ra,pa)\n",
    "plt.show()\n",
    "\n",
    "\n",
    "np.save(\"persistence_cmd\",pa) \n",
    "np.save(\"relative r5_cmd\",ra)\n",
    "np.save(\"persistence51_cmd\",pb) \n",
    "np.save(\"relative r51_cmd\",rb)\n",
    "\n",
    "\n",
    "\n",
    "#print(r)\n",
    "#for i in range (0,100):\n",
    "      #   a.append(r[i])\n",
    "        # b.append(persist[i])\n",
    "\n",
    "\n",
    "#plt.hexbin(ra,pa)\n",
    "#df=pd.DataFrame([ (a[i],b[i]) for i in range(0 , len(a))],columns=['a','b'])\n",
    "df=pd.DataFrame( {'x':ra,'y':pa})\n",
    "\n",
    "#ax=df.plot.hexbin(x='x',y='y',gridsize=25)\n",
    "#plt.plot([.2,.2],[0,1.5])        \n",
    "plt.scatter(ra,pa)\n",
    "\n",
    "\n",
    "plt.show()\n",
    "\n"
   ]
  },
  {
   "cell_type": "code",
   "execution_count": 3,
   "metadata": {},
   "outputs": [
    {
     "name": "stdout",
     "output_type": "stream",
     "text": [
      "[inf inf inf ... inf inf inf]\n"
     ]
    }
   ],
   "source": [
    "print(np.load('persist_cmd.npy'))"
   ]
  },
  {
   "cell_type": "code",
   "execution_count": 5,
   "metadata": {},
   "outputs": [
    {
     "name": "stdout",
     "output_type": "stream",
     "text": [
      "[[-9.599921e-07 -9.380342e-07 -9.150873e-07 ... -1.012537e-06\n",
      "  -9.978684e-07 -9.804481e-07]\n",
      " [-9.799268e-07 -9.589025e-07 -9.378597e-07 ... -1.032166e-06\n",
      "  -1.016816e-06 -9.996816e-07]\n",
      " [-1.002325e-06 -9.828734e-07 -9.639668e-07 ... -1.052628e-06\n",
      "  -1.037372e-06 -1.020575e-06]\n",
      " ...\n",
      " [-9.371924e-07 -9.181670e-07 -8.959485e-07 ... -9.762691e-07\n",
      "  -9.664861e-07 -9.535763e-07]\n",
      " [-9.360632e-07 -9.148087e-07 -8.914139e-07 ... -9.821506e-07\n",
      "  -9.701815e-07 -9.548647e-07]\n",
      " [-9.446435e-07 -9.224486e-07 -8.988542e-07 ... -9.950673e-07\n",
      "  -9.816543e-07 -9.648070e-07]]\n"
     ]
    },
    {
     "ename": "NameError",
     "evalue": "name 'method' is not defined",
     "output_type": "error",
     "traceback": [
      "\u001b[0;31m---------------------------------------------------------------------------\u001b[0m",
      "\u001b[0;31mNameError\u001b[0m                                 Traceback (most recent call last)",
      "\u001b[0;32m<ipython-input-5-a740fae0b413>\u001b[0m in \u001b[0;36m<module>\u001b[0;34m()\u001b[0m\n\u001b[1;32m      2\u001b[0m \u001b[0mprint\u001b[0m\u001b[0;34m(\u001b[0m\u001b[0mdata\u001b[0m\u001b[0;34m)\u001b[0m\u001b[0;34m\u001b[0m\u001b[0m\n\u001b[1;32m      3\u001b[0m \u001b[0mt\u001b[0m\u001b[0;34m=\u001b[0m\u001b[0;36m1\u001b[0m\u001b[0;34m\u001b[0m\u001b[0m\n\u001b[0;32m----> 4\u001b[0;31m \u001b[0mp\u001b[0m\u001b[0;34m=\u001b[0m\u001b[0membedding\u001b[0m\u001b[0;34m(\u001b[0m\u001b[0mdata\u001b[0m\u001b[0;34m,\u001b[0m\u001b[0mmethod\u001b[0m\u001b[0;34m,\u001b[0m\u001b[0mt\u001b[0m\u001b[0;34m)\u001b[0m\u001b[0;34m\u001b[0m\u001b[0m\n\u001b[0m\u001b[1;32m      5\u001b[0m \u001b[0mprint\u001b[0m\u001b[0;34m(\u001b[0m\u001b[0;34m(\u001b[0m\u001b[0mp\u001b[0m\u001b[0;34m)\u001b[0m\u001b[0;34m)\u001b[0m\u001b[0;34m\u001b[0m\u001b[0m\n",
      "\u001b[0;31mNameError\u001b[0m: name 'method' is not defined"
     ]
    }
   ],
   "source": [
    "data=np.loadtxt('gaussian_2.txt')\n",
    "print(data)\n",
    "t=1\n",
    "p=embedding(data,method,t)\n",
    "print((p))\n"
   ]
  }
 ],
 "metadata": {
  "kernelspec": {
   "display_name": "Python 3",
   "language": "python",
   "name": "python3"
  },
  "language_info": {
   "codemirror_mode": {
    "name": "ipython",
    "version": 3
   },
   "file_extension": ".py",
   "mimetype": "text/x-python",
   "name": "python",
   "nbconvert_exporter": "python",
   "pygments_lexer": "ipython3",
   "version": "3.7.0"
  }
 },
 "nbformat": 4,
 "nbformat_minor": 2
}
