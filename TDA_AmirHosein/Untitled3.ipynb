{
 "cells": [
  {
   "cell_type": "code",
   "execution_count": 1,
   "metadata": {},
   "outputs": [],
   "source": [
    "import numpy as np\n",
    "import matplotlib.pyplot as plt\n",
    "import random as rnd\n",
    "import pandas as pd"
   ]
  },
  {
   "cell_type": "code",
   "execution_count": 2,
   "metadata": {},
   "outputs": [
    {
     "data": {
      "text/plain": [
       "<matplotlib.axes._subplots.AxesSubplot at 0x7f572c2e03c8>"
      ]
     },
     "execution_count": 2,
     "metadata": {},
     "output_type": "execute_result"
    },
    {
     "data": {
      "image/png": "[encoded data removed]",
      "text/plain": [
       "<Figure size 432x288 with 2 Axes>"
      ]
     },
     "metadata": {
      "needs_background": "light"
     },
     "output_type": "display_data"
    }
   ],
   "source": [
    "a=np.array([1,2,3,4,5,6])\n",
    "b=np.array([7,8,9,10,11,12])\n",
    "#df=pd.DataFrame([ (a[i],b[i]) for i in range(0 , len(a))],columns=['a','b'])\n",
    "df=pd.DataFrame( list(zip(a,b)),columns=['a','b'])\n",
    "df['b']=df['b']+np.arange(6)\n",
    "df.plot(kind='hexbin',x='a',y='b',gridsize=25)"
   ]
  },
  {
   "cell_type": "code",
   "execution_count": 3,
   "metadata": {},
   "outputs": [],
   "source": [
    "np.save(\"my data1\",[1,2,3,4,3])"
   ]
  },
  {
   "cell_type": "code",
   "execution_count": 4,
   "metadata": {},
   "outputs": [
    {
     "name": "stdout",
     "output_type": "stream",
     "text": [
      "[0.0024164  0.03490206 0.06686238 ... 1.62935438 2.18973673 0.38369636]\n"
     ]
    }
   ],
   "source": [
    "print(np.load(\"persistence.npy\"))"
   ]
  },
  {
   "cell_type": "code",
   "execution_count": 3,
   "metadata": {},
   "outputs": [
    {
     "name": "stdout",
     "output_type": "stream",
     "text": [
      "[3.3863348]\n",
      "[       inf 0.41686632 0.78693619 ...        inf        inf        inf]\n"
     ]
    },
    {
     "data": {
      "image/png": "[encoded data removed]",
      "text/plain": [
       "<Figure size 432x288 with 1 Axes>"
      ]
     },
     "metadata": {
      "needs_background": "light"
     },
     "output_type": "display_data"
    }
   ],
   "source": [
    "import numpy as np\n",
    "import matplotlib.pyplot as plt\n",
    "import random as rnd\n",
    "import pandas as pd\n",
    "a=np.load(\"relative r6.npy\")\n",
    "b=np.array(np.load(\"persistence6.npy\"))  \n",
    "c=np.load(\"relative rc.npy\")\n",
    "d=np.load(\"max size.npy\")\n",
    "print(a[b==np.max(b)])\n",
    "print(np.load(\"persist.npy\"))\n",
    "#plt.scatter(d,c)\n",
    "#df=pd.DataFrame( {'f(r)':np.load(\"persist.npy\"),'persistence':np.load(\"persistence5.npy\")})\n",
    "\n",
    "\n",
    "plt.scatter(np.load(\"relative r6.npy\"),np.load(\"persistence6.npy\"),color=\"blue\")\n",
    "plt.scatter(np.load(\"relative r43.npy\"),np.load(\"persistence43.npy\"),color=\"yellow\")\n",
    "plt.scatter(np.load(\"relative rc3.npy\"),np.load(\"max size3.npy\"),color=\"red\")\n",
    "\n",
    "#ax=df.plot.hexbin(x='f(r)',y='persistence',gridsize=25)\n",
    "plt.show()\n"
   ]
  },
  {
   "cell_type": "code",
   "execution_count": 8,
   "metadata": {},
   "outputs": [
    {
     "ename": "KeyboardInterrupt",
     "evalue": "",
     "output_type": "error",
     "traceback": [
      "\u001b[0;31m---------------------------------------------------------------------------\u001b[0m",
      "\u001b[0;31mKeyboardInterrupt\u001b[0m                         Traceback (most recent call last)",
      "\u001b[0;32m<ipython-input-8-c192bb78ef1f>\u001b[0m in \u001b[0;36m<module>\u001b[0;34m()\u001b[0m\n\u001b[1;32m     72\u001b[0m             \u001b[0mr\u001b[0m\u001b[0;34m=\u001b[0m\u001b[0;36m.001\u001b[0m\u001b[0;34m*\u001b[0m\u001b[0mi\u001b[0m\u001b[0;34m\u001b[0m\u001b[0m\n\u001b[1;32m     73\u001b[0m             \u001b[0mp\u001b[0m\u001b[0;34m=\u001b[0m\u001b[0mpg\u001b[0m\u001b[0;34m(\u001b[0m\u001b[0mn\u001b[0m\u001b[0;34m,\u001b[0m\u001b[0md\u001b[0m\u001b[0;34m)\u001b[0m\u001b[0;34m\u001b[0m\u001b[0m\n\u001b[0;32m---> 74\u001b[0;31m             \u001b[0mcl\u001b[0m\u001b[0;34m=\u001b[0m\u001b[0mrc\u001b[0m\u001b[0;34m(\u001b[0m\u001b[0mp\u001b[0m\u001b[0;34m,\u001b[0m\u001b[0mil\u001b[0m\u001b[0;34m(\u001b[0m\u001b[0mn\u001b[0m\u001b[0;34m)\u001b[0m\u001b[0;34m,\u001b[0m\u001b[0mn\u001b[0m\u001b[0;34m)\u001b[0m\u001b[0;34m\u001b[0m\u001b[0m\n\u001b[0m\u001b[1;32m     75\u001b[0m             \u001b[0mrt\u001b[0m\u001b[0;34m.\u001b[0m\u001b[0mappend\u001b[0m\u001b[0;34m(\u001b[0m\u001b[0mr\u001b[0m\u001b[0;34m**\u001b[0m\u001b[0;36m2\u001b[0m\u001b[0;34m*\u001b[0m\u001b[0mn\u001b[0m\u001b[0;34m*\u001b[0m\u001b[0mpi\u001b[0m\u001b[0;34m)\u001b[0m\u001b[0;34m\u001b[0m\u001b[0m\n\u001b[1;32m     76\u001b[0m             \u001b[0mm\u001b[0m\u001b[0;34m.\u001b[0m\u001b[0mappend\u001b[0m\u001b[0;34m(\u001b[0m\u001b[0mcl\u001b[0m\u001b[0;34m[\u001b[0m\u001b[0;36m1\u001b[0m\u001b[0;34m]\u001b[0m\u001b[0;34m/\u001b[0m\u001b[0;36m50\u001b[0m\u001b[0;34m)\u001b[0m\u001b[0;34m\u001b[0m\u001b[0m\n",
      "\u001b[0;32m<ipython-input-8-c192bb78ef1f>\u001b[0m in \u001b[0;36mrc\u001b[0;34m(p, il, n)\u001b[0m\n\u001b[1;32m     26\u001b[0m         \u001b[0;32mfor\u001b[0m \u001b[0mj\u001b[0m \u001b[0;32min\u001b[0m \u001b[0mrange\u001b[0m\u001b[0;34m(\u001b[0m\u001b[0;36m1\u001b[0m\u001b[0;34m,\u001b[0m\u001b[0mn\u001b[0m\u001b[0;34m)\u001b[0m\u001b[0;34m:\u001b[0m\u001b[0;34m\u001b[0m\u001b[0m\n\u001b[1;32m     27\u001b[0m             \u001b[0;32mif\u001b[0m \u001b[0mil\u001b[0m\u001b[0;34m[\u001b[0m\u001b[0mi\u001b[0m\u001b[0;34m]\u001b[0m\u001b[0;34m==\u001b[0m\u001b[0mil\u001b[0m\u001b[0;34m[\u001b[0m\u001b[0mj\u001b[0m\u001b[0;34m]\u001b[0m\u001b[0;34m:\u001b[0m\u001b[0;32mcontinue\u001b[0m\u001b[0;34m\u001b[0m\u001b[0m\n\u001b[0;32m---> 28\u001b[0;31m             \u001b[0;32melif\u001b[0m \u001b[0mdistcond\u001b[0m\u001b[0;34m(\u001b[0m\u001b[0mp\u001b[0m\u001b[0;34m[\u001b[0m\u001b[0mi\u001b[0m\u001b[0;34m]\u001b[0m\u001b[0;34m,\u001b[0m\u001b[0mp\u001b[0m\u001b[0;34m[\u001b[0m\u001b[0mj\u001b[0m\u001b[0;34m]\u001b[0m\u001b[0;34m,\u001b[0m\u001b[0mr\u001b[0m\u001b[0;34m)\u001b[0m \u001b[0;34m:\u001b[0m \u001b[0mil\u001b[0m\u001b[0;34m[\u001b[0m\u001b[0mil\u001b[0m\u001b[0;34m==\u001b[0m\u001b[0mmax\u001b[0m\u001b[0;34m(\u001b[0m\u001b[0mil\u001b[0m\u001b[0;34m[\u001b[0m\u001b[0mi\u001b[0m\u001b[0;34m]\u001b[0m\u001b[0;34m,\u001b[0m\u001b[0mil\u001b[0m\u001b[0;34m[\u001b[0m\u001b[0mj\u001b[0m\u001b[0;34m]\u001b[0m\u001b[0;34m)\u001b[0m\u001b[0;34m]\u001b[0m\u001b[0;34m=\u001b[0m\u001b[0mmin\u001b[0m\u001b[0;34m(\u001b[0m\u001b[0mil\u001b[0m\u001b[0;34m[\u001b[0m\u001b[0mi\u001b[0m\u001b[0;34m]\u001b[0m\u001b[0;34m,\u001b[0m\u001b[0mil\u001b[0m\u001b[0;34m[\u001b[0m\u001b[0mj\u001b[0m\u001b[0;34m]\u001b[0m\u001b[0;34m)\u001b[0m\u001b[0;34m\u001b[0m\u001b[0m\n\u001b[0m\u001b[1;32m     29\u001b[0m     \u001b[0mcluster\u001b[0m\u001b[0;34m=\u001b[0m\u001b[0;34m{\u001b[0m\u001b[0;34m}\u001b[0m\u001b[0;34m\u001b[0m\u001b[0m\n\u001b[1;32m     30\u001b[0m     \u001b[0mj\u001b[0m\u001b[0;34m=\u001b[0m\u001b[0;36m0\u001b[0m\u001b[0;34m\u001b[0m\u001b[0m\n",
      "\u001b[0;32m<ipython-input-8-c192bb78ef1f>\u001b[0m in \u001b[0;36mdistcond\u001b[0;34m(p1, p2, r)\u001b[0m\n\u001b[1;32m      6\u001b[0m \u001b[0;31m#distance condition\u001b[0m\u001b[0;34m\u001b[0m\u001b[0;34m\u001b[0m\u001b[0m\n\u001b[1;32m      7\u001b[0m \u001b[0;32mdef\u001b[0m \u001b[0mdistcond\u001b[0m\u001b[0;34m(\u001b[0m\u001b[0mp1\u001b[0m\u001b[0;34m,\u001b[0m\u001b[0mp2\u001b[0m\u001b[0;34m,\u001b[0m\u001b[0mr\u001b[0m\u001b[0;34m)\u001b[0m\u001b[0;34m:\u001b[0m\u001b[0;34m\u001b[0m\u001b[0m\n\u001b[0;32m----> 8\u001b[0;31m     \u001b[0md\u001b[0m\u001b[0;34m=\u001b[0m\u001b[0mnp\u001b[0m\u001b[0;34m.\u001b[0m\u001b[0msqrt\u001b[0m\u001b[0;34m(\u001b[0m\u001b[0mnp\u001b[0m\u001b[0;34m.\u001b[0m\u001b[0msum\u001b[0m\u001b[0;34m(\u001b[0m\u001b[0;34m(\u001b[0m\u001b[0mp1\u001b[0m\u001b[0;34m-\u001b[0m\u001b[0mp2\u001b[0m\u001b[0;34m)\u001b[0m\u001b[0;34m**\u001b[0m\u001b[0;36m2\u001b[0m\u001b[0;34m)\u001b[0m\u001b[0;34m)\u001b[0m\u001b[0;34m\u001b[0m\u001b[0m\n\u001b[0m\u001b[1;32m      9\u001b[0m     \u001b[0;32mif\u001b[0m \u001b[0md\u001b[0m\u001b[0;34m<=\u001b[0m\u001b[0;36m2\u001b[0m\u001b[0;34m*\u001b[0m\u001b[0mr\u001b[0m \u001b[0;34m:\u001b[0m\u001b[0;34m\u001b[0m\u001b[0m\n\u001b[1;32m     10\u001b[0m         \u001b[0;32mreturn\u001b[0m \u001b[0;32mTrue\u001b[0m\u001b[0;34m\u001b[0m\u001b[0m\n",
      "\u001b[0;31mKeyboardInterrupt\u001b[0m: "
     ]
    }
   ],
   "source": [
    "import numpy as np\n",
    "import random as rnd\n",
    "import matplotlib.pyplot as plt\n",
    "from math import *\n",
    "import dionysus as sus\n",
    "#distance condition\n",
    "def distcond(p1,p2,r):\n",
    "    d=np.sqrt(np.sum((p1-p2)**2))\n",
    "    if d<=2*r :\n",
    "        return True\n",
    "    else:\n",
    "        return False\n",
    "#point generations\n",
    "def pg(n,d):\n",
    "    return np.random.random((n,d))\n",
    "#index list\n",
    "def il(n):\n",
    "    l=[]\n",
    "    for i in range(0,n):\n",
    "        l.append (i)\n",
    "    return np.array(l)    \n",
    "#root and cluster finding\n",
    "def rc(p,il,n):\n",
    "    \n",
    "    for i in range (0,n):\n",
    "        for j in range(1,n):\n",
    "            if il[i]==il[j]:continue\n",
    "            elif distcond(p[i],p[j],r) : il[il==max(il[i],il[j])]=min(il[i],il[j])\n",
    "    cluster={} \n",
    "    j=0\n",
    "    lenth=[]\n",
    "    for i in range (0,n) :\n",
    "        if i in il:\n",
    "            \n",
    "            cluster[j]= p[il==i]\n",
    "            lenth.append(len(p[il==i]))\n",
    "            j=j+1\n",
    "    # finding each cluster ,cluster with maximum size, cluster max        \n",
    "    return cluster , np.max(lenth) , cluster[lenth.index( np.max(lenth))]\n",
    "# persistence distribution\n",
    "def pd(p,d,mr,n):\n",
    "        f=sus.fill_rips(p,d,mr)\n",
    "        m=sus.homology_persistence(f)\n",
    "        dgms = sus.init_diagrams(m, f)\n",
    "        I=[]\n",
    "        persist=[]\n",
    "        rc=[]\n",
    "        for i, dgm in enumerate(dgms):\n",
    "    \n",
    "               for pt in dgm:\n",
    "            \n",
    "                      I.append(i)\n",
    "                      persist.append(n*pi*((pt.death)**2-(pt.birth)**2))\n",
    "                      rc.append((pt.birth)**2*n*pi)\n",
    "        pa=[]\n",
    "        ra=[]\n",
    "        for i in range (0, len(persist)):\n",
    "             if persist[i]!= inf and I[i]==1:\n",
    "                    pa.append(persist[i])\n",
    "                    ra.append(rc[i])\n",
    "        return ra , pa       \n",
    "rtt=[]\n",
    "mt=[]\n",
    "for i in range (0,20):\n",
    "    rt=[]\n",
    "    m=[]\n",
    "    for j in range (0,1):\n",
    "   \n",
    "            n=1000\n",
    "            d=2\n",
    "    \n",
    "            r=.001*i\n",
    "            p=pg(n,d)\n",
    "            cl=rc(p,il(n),n)\n",
    "            rt.append(r**2*n*pi)\n",
    "            m.append(cl[1]/50)\n",
    "     \n",
    "    mt.append(np.average(np.array(m)))\n",
    "    rtt.append(np.average(np.array(rt)))\n",
    "    \n",
    "\n",
    "plt.scatter(rtt,mt)   \n",
    "\n",
    "plt.show()    "
   ]
  },
  {
   "cell_type": "code",
   "execution_count": null,
   "metadata": {},
   "outputs": [],
   "source": []
  }
 ],
 "metadata": {
  "kernelspec": {
   "display_name": "Python 3",
   "language": "python",
   "name": "python3"
  },
  "language_info": {
   "codemirror_mode": {
    "name": "ipython",
    "version": 3
   },
   "file_extension": ".py",
   "mimetype": "text/x-python",
   "name": "python",
   "nbconvert_exporter": "python",
   "pygments_lexer": "ipython3",
   "version": "3.7.0"
  }
 },
 "nbformat": 4,
 "nbformat_minor": 2
}
