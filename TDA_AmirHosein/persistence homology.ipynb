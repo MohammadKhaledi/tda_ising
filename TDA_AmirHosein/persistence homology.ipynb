{
 "cells": [
  {
   "cell_type": "code",
   "execution_count": 1,
   "metadata": {},
   "outputs": [],
   "source": [
    "import dionysus as d\n",
    "import numpy as np \n",
    "from scipy.spatial.distance import pdist ,squareform\n"
   ]
  },
  {
   "cell_type": "code",
   "execution_count": 2,
   "metadata": {},
   "outputs": [
    {
     "name": "stdout",
     "output_type": "stream",
     "text": [
      "dimension of simplex: 5\n",
      "0\n",
      "1\n",
      "2\n",
      "3\n",
      "4\n",
      "5\n",
      "<1,2,3,4,5> 0\n",
      "<0,2,3,4,5> 0\n",
      "<0,1,3,4,5> 0\n",
      "<0,1,2,4,5> 0\n",
      "<0,1,2,3,5> 0\n",
      "<0,1,2,3,4> 0\n",
      "<0,1,2,3,4,5> 5\n",
      "7\n"
     ]
    }
   ],
   "source": [
    "#simplices\n",
    "s=d.Simplex([1,2,3,0,4,5])\n",
    "print(\"dimension of simplex:\",s.dimension())\n",
    "\n",
    "for v in s :\n",
    "    print (v)\n",
    "for sb in s.boundary():\n",
    "    print(sb)\n",
    "s.data=5\n",
    "print(s)\n",
    "simplex9 = d.Simplex([0,1,2,])\n",
    "sphere8  = d.closure([simplex9],2)\n",
    "print(len(sphere8))"
   ]
  },
  {
   "cell_type": "code",
   "execution_count": 20,
   "metadata": {},
   "outputs": [
    {
     "name": "stdout",
     "output_type": "stream",
     "text": [
      "[]\n",
      "<0> 0\n",
      "<1> 0\n",
      "<2> 0\n",
      "<0,1> 1\n",
      "<0,2> 2\n",
      "<1,2> 2.23607\n",
      "1\n",
      "Help on class ReducedMatrix in module dionysus._dionysus:\n",
      "\n",
      "class ReducedMatrix(pybind11_builtins.pybind11_object)\n",
      " |  matrix, where each column has a lowest non-zero entry in a unique row; supports iteration and indexing\n",
      " |  \n",
      " |  Method resolution order:\n",
      " |      ReducedMatrix\n",
      " |      pybind11_builtins.pybind11_object\n",
      " |      builtins.object\n",
      " |  \n",
      " |  Methods defined here:\n",
      " |  \n",
      " |  __getitem__(...)\n",
      " |      __getitem__(self: dionysus._dionysus.ReducedMatrix, arg0: int) -> std::vector<dionysus::ChainEntry<dionysus::ZpField<long>, unsigned int>, std::allocator<dionysus::ChainEntry<dionysus::ZpField<long>, unsigned int> > >\n",
      " |      \n",
      " |      access the column at a given index\n",
      " |  \n",
      " |  __init__(...)\n",
      " |      __init__(self: dionysus._dionysus.ReducedMatrix, arg0: dionysus._dionysus.Zp) -> None\n",
      " |  \n",
      " |  __iter__(...)\n",
      " |      __iter__(self: dionysus._dionysus.ReducedMatrix) -> iterator\n",
      " |      \n",
      " |      iterate over the columns of the matrix\n",
      " |  \n",
      " |  __len__(...)\n",
      " |      __len__(self: dionysus._dionysus.ReducedMatrix) -> int\n",
      " |      \n",
      " |      size of the matrix\n",
      " |  \n",
      " |  __repr__(...)\n",
      " |      __repr__(self: dionysus._dionysus.ReducedMatrix) -> str\n",
      " |  \n",
      " |  pair(...)\n",
      " |      pair(self: dionysus._dionysus.ReducedMatrix, arg0: int) -> int\n",
      " |      \n",
      " |      pair of the given index\n",
      " |  \n",
      " |  ----------------------------------------------------------------------\n",
      " |  Data descriptors defined here:\n",
      " |  \n",
      " |  unpaired\n",
      " |      index representing lack of pair\n",
      " |  \n",
      " |  ----------------------------------------------------------------------\n",
      " |  Static methods inherited from pybind11_builtins.pybind11_object:\n",
      " |  \n",
      " |  __new__(*args, **kwargs) from pybind11_builtins.pybind11_type\n",
      " |      Create and return a new object.  See help(type) for accurate signature.\n",
      "\n"
     ]
    }
   ],
   "source": [
    "#filteration\n",
    "import numpy as np\n",
    "simplices = [([2], 0), ([1,2], np.sqrt(5)), ([0,2], 2),\n",
    "      ([0], 0),   ([1], 0), ([0,1], 1)]\n",
    "f = d.Filtration()\n",
    "m=d.homology_persistence(f)\n",
    "dgms = d.init_diagrams(m, f)\n",
    "\n",
    "print(dgms)\n",
    "for vertices, time in simplices:\n",
    "      f.append(d.Simplex(vertices, time))\n",
    "f.sort()\n",
    "for s in f:\n",
    "    print(s)\n",
    "print(f.index(d.Simplex([0]))+1)    \n",
    "help()\n",
    "    "
   ]
  },
  {
   "cell_type": "code",
   "execution_count": 7,
   "metadata": {},
   "outputs": [
    {
     "name": "stdout",
     "output_type": "stream",
     "text": [
      "[   1*0 + 1*1 1*0 + 1*2  1*3 + 1*4 + 1*5]\n",
      "0 \n",
      "1 \n",
      "2 \n",
      "3 1*0 + 1*1\n",
      "4 1*0 + 1*2\n",
      "5 \n",
      "6 1*3 + 1*4 + 1*5\n",
      "0 0\n",
      "0 1 3\n",
      "0 2 4\n",
      "1 5 6\n",
      "[Diagram with 1 points, Diagram with 0 points, Diagram with 0 points]\n",
      "0 inf inf\n",
      "Dimension: 0\n",
      "(0,inf)\n",
      "Dimension: 1\n",
      "Dimension: 2\n"
     ]
    },
    {
     "data": {
      "text/plain": [
       "<Figure size 640x480 with 1 Axes>"
      ]
     },
     "metadata": {},
     "output_type": "display_data"
    }
   ],
   "source": [
    "#persistant Homology\n",
    "m = d.homology_persistence(f)\n",
    "print(np.array(m))\n",
    "for i,c in enumerate(m):\n",
    "    print(i, c)\n",
    "for i in range(len(m)):\n",
    "    if m.pair(i) < i: continue      # skip negative simplices\n",
    "    dim = f[i].dimension()\n",
    "    if m.pair(i) != m.unpaired:\n",
    "             print(dim, i, m.pair(i))\n",
    "    else:\n",
    "             print(dim, i)\n",
    "dgms = d.init_diagrams(m, f)     \n",
    "print(dgms)\n",
    "for i, dgm in enumerate(dgms):\n",
    "    for pt in dgm:\n",
    "        print(i,pt.death -pt.birth, pt.death)\n",
    "m = d.homology_persistence(f, method = 'column')       \n",
    "f = d.Filtration(sphere8)\n",
    "f.sort()\n",
    "m = d.homology_persistence(f, prime=2)\n",
    "dgms = d.init_diagrams(m, f)\n",
    "for i, dgm in enumerate(dgms):\n",
    "        print(\"Dimension:\", i)\n",
    "        for p in dgm:\n",
    "            print(p)\n",
    "d.plot.plot_bars(dgms[0],order = 'birth', show = True)\n",
    "            "
   ]
  },
  {
   "cell_type": "code",
   "execution_count": 5,
   "metadata": {},
   "outputs": [
    {
     "name": "stdout",
     "output_type": "stream",
     "text": [
      "Dimension: 0\n",
      "Dimension: 1\n",
      "Dimension: 2\n",
      "(0,inf)\n"
     ]
    }
   ],
   "source": [
    "#relative persistence\n",
    "f = d.Filtration(d.closure([d.Simplex([0,1,2])], 2))\n",
    "f.sort()\n",
    "f1 = d.Filtration([s for s in f if s.dimension() <= 1])\n",
    "m = d.homology_persistence(f, relative = f1)\n",
    "dgms = d.init_diagrams(m, f)\n",
    "for i, dgm in enumerate(dgms):\n",
    "         print(\"Dimension:\", i)\n",
    "         for p in dgm:\n",
    "            print(p)"
   ]
  },
  {
   "cell_type": "code",
   "execution_count": 6,
   "metadata": {},
   "outputs": [
    {
     "name": "stdout",
     "output_type": "stream",
     "text": [
      "2-Wasserstein distance between 1-dimensional persistence diagrams: 0.06525366008281708\n",
      "Bottleneck distance between 1-dimensional persistence diagrams: 0.060736045241355896\n"
     ]
    }
   ],
   "source": [
    "#diagram distance\n",
    "np.random.seed(0)\n",
    "f1 = d.fill_rips(np.random.random((20, 2)), 2, 1)\n",
    "m1 = d.homology_persistence(f1)\n",
    "dgms1 = d.init_diagrams(m1, f1)\n",
    "f2 = d.fill_rips(np.random.random((20, 2)), 2, 1)\n",
    "m2 = d.homology_persistence(f2)\n",
    "dgms2 = d.init_diagrams(m2, f2)\n",
    "wdist = d.wasserstein_distance(dgms1[1], dgms2[1], q=2)\n",
    "print(\"2-Wasserstein distance between 1-dimensional persistence diagrams:\", wdist)\n",
    "bdist = d.bottleneck_distance(dgms1[1], dgms2[1])\n",
    "print(\"Bottleneck distance between 1-dimensional persistence diagrams:\", bdist)\n",
    "    \n"
   ]
  },
  {
   "cell_type": "code",
   "execution_count": 8,
   "metadata": {},
   "outputs": [
    {
     "name": "stdout",
     "output_type": "stream",
     "text": [
      "Filtration with 26 simplices\n",
      "<0> 0\n",
      "<1> 0\n",
      "<2> 0\n",
      "<3> 0\n",
      "<4> 0\n",
      "<5> 0\n",
      "<6> 0\n",
      "<7> 0\n",
      "<8> 0\n",
      "<9> 0\n",
      "<1,6> 0.0717331\n",
      "<3,8> 0.0972304\n",
      "<2,3> 0.176845\n",
      "<5,6> 0.193071\n",
      "<0,7> 0.232832\n",
      "<8,9> 0.242916\n",
      "<2,8> 0.246089\n",
      "<2,3,8> 0.246089\n",
      "<3,7> 0.250295\n",
      "<0,5> 0.253148\n",
      "<1,5> 0.255653\n",
      "<1,5,6> 0.255653\n",
      "<2,7> 0.289126\n",
      "<2,3,7> 0.289126\n",
      "<0,2> 0.289783\n",
      "<0,2,7> 0.289783\n",
      "Filtration with 26 simplices\n",
      "(10, 10)\n",
      "(45,)\n"
     ]
    }
   ],
   "source": [
    "#rips\n",
    "points = np.random.random((10,2))\n",
    "f = d.fill_rips(points,2, .3)\n",
    "print(f)\n",
    "\n",
    "for s in f:\n",
    "    print(s)\n",
    "dists = pdist(points)\n",
    "f = d.fill_rips(dists, 2, .3)\n",
    "print(f)\n",
    "sq_dist = squareform(dists)\n",
    "print(sq_dist.shape)\n",
    "\n",
    "print(squareform(sq_dist).shape)\n",
    "\n"
   ]
  },
  {
   "cell_type": "code",
   "execution_count": 9,
   "metadata": {},
   "outputs": [
    {
     "name": "stdout",
     "output_type": "stream",
     "text": [
      "[[0.67781654 0.27000797]\n",
      " [0.73519402 0.96218855]\n",
      " [0.24875314 0.57615733]\n",
      " [0.59204193 0.57225191]\n",
      " [0.22308163 0.95274901]\n",
      " [0.44712538 0.84640867]\n",
      " [0.69947928 0.29743695]\n",
      " [0.81379782 0.39650574]\n",
      " [0.8811032  0.58127287]\n",
      " [0.88173536 0.69253159]]\n"
     ]
    },
    {
     "data": {
      "text/plain": [
       "<Figure size 640x480 with 1 Axes>"
      ]
     },
     "metadata": {},
     "output_type": "display_data"
    },
    {
     "data": {
      "text/plain": [
       "<Figure size 640x480 with 1 Axes>"
      ]
     },
     "metadata": {},
     "output_type": "display_data"
    },
    {
     "data": {
      "text/plain": [
       "<Figure size 640x480 with 2 Axes>"
      ]
     },
     "metadata": {},
     "output_type": "display_data"
    }
   ],
   "source": [
    "#plotting\n",
    "points = np.random.random((10, 2))\n",
    "print(points)\n",
    "f = d.fill_rips(points, 2, 1.)\n",
    "p = d.homology_persistence(f)\n",
    "dgms = d.init_diagrams(p, f)\n",
    "d.plot.plot_diagram(dgms[1], show = True)\n",
    "d.plot.plot_bars(dgms[1],order = 'birth', show = True)\n",
    "a = np.random.random((80,80))\n",
    "f_lower_star = d.fill_freudenthal(a)\n",
    "p = d.homology_persistence(f_lower_star)\n",
    "dgms = d.init_diagrams(p, f_lower_star)\n",
    "d.plot.plot_diagram_density(dgms[1], show = True)\n",
    "\n",
    "\n",
    "   "
   ]
  },
  {
   "cell_type": "code",
   "execution_count": 16,
   "metadata": {},
   "outputs": [
    {
     "ename": "NameError",
     "evalue": "name 'fill_alpha_complex' is not defined",
     "output_type": "error",
     "traceback": [
      "\u001b[0;31m---------------------------------------------------------------------------\u001b[0m",
      "\u001b[0;31mNameError\u001b[0m                                 Traceback (most recent call last)",
      "\u001b[0;32m<ipython-input-16-9bbb5dec4614>\u001b[0m in \u001b[0;36m<module>\u001b[0;34m()\u001b[0m\n\u001b[1;32m      7\u001b[0m \u001b[0mm\u001b[0m\u001b[0;34m=\u001b[0m\u001b[0mnp\u001b[0m\u001b[0;34m.\u001b[0m\u001b[0mrandom\u001b[0m\u001b[0;34m.\u001b[0m\u001b[0mrandom\u001b[0m\u001b[0;34m(\u001b[0m\u001b[0;34m(\u001b[0m\u001b[0;36m4\u001b[0m\u001b[0;34m,\u001b[0m\u001b[0;36m2\u001b[0m\u001b[0;34m)\u001b[0m\u001b[0;34m)\u001b[0m\u001b[0;34m\u001b[0m\u001b[0m\n\u001b[1;32m      8\u001b[0m \u001b[0mf\u001b[0m\u001b[0;34m=\u001b[0m\u001b[0mFiltration\u001b[0m\u001b[0;34m(\u001b[0m\u001b[0;34m)\u001b[0m\u001b[0;34m\u001b[0m\u001b[0m\n\u001b[0;32m----> 9\u001b[0;31m \u001b[0mfill_alpha_complex\u001b[0m\u001b[0;34m(\u001b[0m\u001b[0mm\u001b[0m\u001b[0;34m,\u001b[0m\u001b[0mf\u001b[0m\u001b[0;34m)\u001b[0m\u001b[0;34m\u001b[0m\u001b[0m\n\u001b[0m\u001b[1;32m     10\u001b[0m \u001b[0ms\u001b[0m\u001b[0;34m=\u001b[0m\u001b[0mhomology_persistence\u001b[0m\u001b[0;34m(\u001b[0m\u001b[0mf\u001b[0m\u001b[0;34m)\u001b[0m\u001b[0;34m\u001b[0m\u001b[0m\n\u001b[1;32m     11\u001b[0m \u001b[0mdgms\u001b[0m \u001b[0;34m=\u001b[0m \u001b[0msus\u001b[0m\u001b[0;34m.\u001b[0m\u001b[0minit_diagrams\u001b[0m\u001b[0;34m(\u001b[0m\u001b[0ms\u001b[0m\u001b[0;34m,\u001b[0m \u001b[0mf\u001b[0m\u001b[0;34m)\u001b[0m\u001b[0;34m\u001b[0m\u001b[0m\n",
      "\u001b[0;31mNameError\u001b[0m: name 'fill_alpha_complex' is not defined"
     ]
    }
   ],
   "source": [
    "from dionysus import *\n",
    "\n",
    "\n",
    "import numpy as np \n",
    "from scipy.spatial.distance import pdist ,squareform\n",
    "\n",
    "m=np.random.random((4,2))\n",
    "f=Filtration()\n",
    "fill_alpha_complex(m,f)\n",
    "s=homology_persistence(f)\n",
    "dgms = sus.init_diagrams(s, f)\n",
    "print(dgms)\n",
    "#distances=d.PairWiseDistances(m)\n",
    "print(m)\n"
   ]
  },
  {
   "cell_type": "code",
   "execution_count": 26,
   "metadata": {},
   "outputs": [
    {
     "name": "stdout",
     "output_type": "stream",
     "text": [
      "Dimension: 0\n",
      "(0,inf)\n",
      "(0,1.2)\n",
      "(0,3.3)\n",
      "(0,0.5)\n",
      "(0,1.2)\n",
      "(0,2.5)\n",
      "Dimension: 1\n",
      "Dimension: 2\n"
     ]
    },
    {
     "data": {
      "image/png": "[encoded data removed]",
      "text/plain": [
       "<Figure size 432x288 with 1 Axes>"
      ]
     },
     "metadata": {
      "needs_background": "light"
     },
     "output_type": "display_data"
    },
    {
     "ename": "NameError",
     "evalue": "name 'plt' is not defined",
     "output_type": "error",
     "traceback": [
      "\u001b[0;31m---------------------------------------------------------------------------\u001b[0m",
      "\u001b[0;31mNameError\u001b[0m                                 Traceback (most recent call last)",
      "\u001b[0;32m<ipython-input-26-c15dee4fab75>\u001b[0m in \u001b[0;36m<module>\u001b[0;34m()\u001b[0m\n\u001b[1;32m     19\u001b[0m             \u001b[0mprint\u001b[0m\u001b[0;34m(\u001b[0m\u001b[0mp\u001b[0m\u001b[0;34m)\u001b[0m\u001b[0;34m\u001b[0m\u001b[0m\n\u001b[1;32m     20\u001b[0m \u001b[0md\u001b[0m\u001b[0;34m.\u001b[0m\u001b[0mplot\u001b[0m\u001b[0;34m.\u001b[0m\u001b[0mplot_bars\u001b[0m\u001b[0;34m(\u001b[0m\u001b[0mdgms\u001b[0m\u001b[0;34m[\u001b[0m\u001b[0;36m0\u001b[0m\u001b[0;34m]\u001b[0m\u001b[0;34m,\u001b[0m\u001b[0morder\u001b[0m \u001b[0;34m=\u001b[0m \u001b[0;34m'birth'\u001b[0m\u001b[0;34m,\u001b[0m \u001b[0mshow\u001b[0m \u001b[0;34m=\u001b[0m \u001b[0;32mTrue\u001b[0m\u001b[0;34m)\u001b[0m\u001b[0;34m\u001b[0m\u001b[0m\n\u001b[0;32m---> 21\u001b[0;31m \u001b[0mplt\u001b[0m\u001b[0;34m.\u001b[0m\u001b[0mshow\u001b[0m\u001b[0;34m(\u001b[0m\u001b[0;34m)\u001b[0m\u001b[0;34m\u001b[0m\u001b[0m\n\u001b[0m",
      "\u001b[0;31mNameError\u001b[0m: name 'plt' is not defined"
     ]
    }
   ],
   "source": [
    "import dionysus as d\n",
    "import numpy as np \n",
    "from scipy.spatial.distance import pdist ,squareform\n",
    "W=np.array([[0.0,1.2,4.5,5.0,1.2,3.7],\n",
    "          [1.2,0.0,5.3,5.8,2.0,4.5],\n",
    "          [4.5,5.3,0.0,.5,3.3,5.8],\n",
    "            [5,5.8,.5,0.0,3.8,6.3],\n",
    "            [1.2,2,3.3,3.8,0,2.5],\n",
    "            [3.7,4.5,5.8,6.3,2.5,0]\n",
    "           \n",
    "           ])\n",
    "sq_dist = squareform(W)\n",
    "f = d.fill_rips(sq_dist, 2, np.max(W)) # creates the k-skeleton of the Vietoris-Rips filtration (edge weight filtration) of the graph\n",
    "m = d.homology_persistence(f) # calculates persistent homology\n",
    "dgms = d.init_diagrams(m, f)\n",
    "for i, dgm in enumerate(dgms):\n",
    "        print(\"Dimension:\", i)\n",
    "        for p in dgm:\n",
    "            print(p)\n",
    "d.plot.plot_bars(dgms[0],order = 'birth', show = True)\n",
    "plt.show()"
   ]
  },
  {
   "cell_type": "code",
   "execution_count": null,
   "metadata": {},
   "outputs": [],
   "source": []
  },
  {
   "cell_type": "code",
   "execution_count": null,
   "metadata": {},
   "outputs": [],
   "source": []
  },
  {
   "cell_type": "code",
   "execution_count": null,
   "metadata": {},
   "outputs": [],
   "source": []
  },
  {
   "cell_type": "code",
   "execution_count": null,
   "metadata": {},
   "outputs": [],
   "source": []
  }
 ],
 "metadata": {
  "kernelspec": {
   "display_name": "Python 3",
   "language": "python",
   "name": "python3"
  },
  "language_info": {
   "codemirror_mode": {
    "name": "ipython",
    "version": 3
   },
   "file_extension": ".py",
   "mimetype": "text/x-python",
   "name": "python",
   "nbconvert_exporter": "python",
   "pygments_lexer": "ipython3",
   "version": "3.7.0"
  }
 },
 "nbformat": 4,
 "nbformat_minor": 2
}
