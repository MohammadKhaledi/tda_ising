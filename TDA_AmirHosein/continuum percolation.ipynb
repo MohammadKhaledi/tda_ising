{
 "cells": [
  {
   "cell_type": "code",
   "execution_count": 1,
   "metadata": {},
   "outputs": [],
   "source": [
    "import numpy as np\n",
    "import random as rnd\n",
    "import pandas as pds\n",
    "import matplotlib.pyplot as plt\n",
    "from math import *\n",
    "import dionysus as sus\n",
    "#distance condition\n",
    "def distcond(p1,p2,r):\n",
    "    d=np.sqrt(np.sum((p1-p2)**2))\n",
    "    if d<=2*r :\n",
    "        return True\n",
    "    else:\n",
    "        return False\n",
    "#point generations\n",
    "def pg(n,d):\n",
    "    return np.random.random((n,d))\n",
    "#index list\n",
    "def il(n):\n",
    "    l=[]\n",
    "    for i in range(0,n):\n",
    "        l.append (i)\n",
    "    return np.array(l)    \n",
    "#root and cluster finding\n",
    "def rc(p,il,n):\n",
    "    \n",
    "    for i in range (0,n):\n",
    "        for j in range(1,n):\n",
    "            if il[i]==il[j]:continue\n",
    "            elif distcond(p[i],p[j],r) : il[il==max(il[i],il[j])]=min(il[i],il[j])\n",
    "    cluster={} \n",
    "    j=0\n",
    "    lengh=[]\n",
    "    for i in range (0,n) :\n",
    "        if i in il:\n",
    "            \n",
    "            cluster[j]= p[il==i]\n",
    "            lengh.append(len(p[il==i]))\n",
    "            j=j+1\n",
    "# finding each cluster ,cluster with maximum size, cluster max        \n",
    "    return cluster , np.max(lengh) , cluster[lengh.index( np.max(lengh))]\n",
    "# persistence distribution\n",
    "def pd(p,d,mr,n):\n",
    "        f=sus.fill_rips(p,d,mr)\n",
    "        m=sus.homology_persistence(f)\n",
    "        dgms = sus.init_diagrams(m, f)\n",
    "        I=[]\n",
    "        persist=[]\n",
    "        rc=[]\n",
    "        for i, dgm in enumerate(dgms):\n",
    "    \n",
    "               for pt in dgm:\n",
    "            \n",
    "                      I.append(i)\n",
    "                #rescaling\n",
    "                      persist.append(n*pi*((pt.death)**2-(pt.birth)**2))\n",
    "                #rescaling     \n",
    "                      rc.append((pt.birth)**2*n*pi)\n",
    "#removing inf persistence      \n",
    "        pa=[]\n",
    "        ra=[]\n",
    "        for i in range (0, len(persist)):\n",
    "             if persist[i]!= inf and I[i]==1:\n",
    "                    pa.append(persist[i])\n",
    "                    ra.append(rc[i])\n",
    "        return ra , pa       \n",
    "       "
   ]
  },
  {
   "cell_type": "code",
   "execution_count": null,
   "metadata": {},
   "outputs": [],
   "source": [
    "n=5000\n",
    "d=2\n",
    "#p=pg(n,d)\n",
    "# finding maximum size of cluster in each radi \n",
    "rt=[]\n",
    "m=[]\n",
    "for i in range (0,20):\n",
    "            r=.0001*i\n",
    "            p=pg(n,d)\n",
    "            cl=rc(p,il(n),n)\n",
    "#rescaling r           \n",
    "            rt.append(r**2*n*pi)\n",
    "#re scaling max size as same as order of persistence           \n",
    "            m.append(cl[1]/250)\n",
    "#np.save(\"max size\",m)\n",
    "#np.save(\"relative rc\",rt)            \n",
    "# distribution of persistance of H1 in each radi\n",
    "dp=pd(pg(n,d),d,.1,n)\n",
    "ra=dp[0]\n",
    "pa=dp[1]\n",
    "#np.save(\"persistence\",pa) \n",
    "#np.save(\"relative r\",ra)\n",
    "# plotting max size of clustter with radi\n",
    "plt.scatter(rt,m)\n",
    "#plotting hexagonal binning of persistence with r\n",
    "df=pds.DataFrame( {'f(r)':ra,'persistence':pa})\n",
    "ax=df.plot.hexbin(x='f(r)',y='persistence',gridsize=25)\n",
    "plt.show()\n",
    "\n"
   ]
  },
  {
   "cell_type": "code",
   "execution_count": 9,
   "metadata": {},
   "outputs": [
    {
     "name": "stdout",
     "output_type": "stream",
     "text": [
      "inf 0.0 inf 0.0\n"
     ]
    }
   ],
   "source": [
    "\n",
    "f=sus.fill_rips(pg(1000,2),2,.1)\n",
    "m=sus.homology_persistence(f)\n",
    "dgms1 = sus.init_diagrams(m, f)\n",
    "\n",
    "f=sus.fill_rips(pg(1000,2),2,.1)\n",
    "m=sus.homology_persistence(f)\n",
    "\n",
    "dgms2=sus.init_diagrams(m, f)\n",
    "\n",
    "a1=sus.bottleneck_distance(dgms1[1],dgms2[1],1)\n",
    "a2=sus.bottleneck_distance(dgms1[1],dgms1[1],1)\n",
    "a3=sus.wasserstein_distance(dgms1[1], dgms2[1], q=2)\n",
    "a4=sus.wasserstein_distance(dgms1[1], dgms1[1], q=2)\n",
    "print(a1,a2,a3,a4)"
   ]
  },
  {
   "cell_type": "code",
   "execution_count": 3,
   "metadata": {},
   "outputs": [],
   "source": [
    "a=np.loadtxt('gaussian_2.txt')\n"
   ]
  },
  {
   "cell_type": "code",
   "execution_count": 7,
   "metadata": {},
   "outputs": [
    {
     "data": {
      "text/plain": [
       "1024"
      ]
     },
     "execution_count": 7,
     "metadata": {},
     "output_type": "execute_result"
    }
   ],
   "source": [
    "a.shape[0]\n"
   ]
  },
  {
   "cell_type": "code",
   "execution_count": 6,
   "metadata": {},
   "outputs": [
    {
     "ename": "SyntaxError",
     "evalue": "invalid syntax (<ipython-input-6-024e3387346a>, line 1)",
     "output_type": "error",
     "traceback": [
      "\u001b[0;36m  File \u001b[0;32m\"<ipython-input-6-024e3387346a>\"\u001b[0;36m, line \u001b[0;32m1\u001b[0m\n\u001b[0;31m    e,f,g=[][][]\u001b[0m\n\u001b[0m             ^\u001b[0m\n\u001b[0;31mSyntaxError\u001b[0m\u001b[0;31m:\u001b[0m invalid syntax\n"
     ]
    }
   ],
   "source": [
    "e,f,g=[][][]\n",
    "b=np.random.random((1048576,3))\n",
    "for i in range (0,1024):\n",
    "    for j in range(0,1024):\n",
    "        e[i]=i\n",
    "        f[i]=j\n",
    "        g[i]="
   ]
  },
  {
   "cell_type": "code",
   "execution_count": null,
   "metadata": {},
   "outputs": [],
   "source": []
  }
 ],
 "metadata": {
  "kernelspec": {
   "display_name": "Python 3",
   "language": "python",
   "name": "python3"
  },
  "language_info": {
   "codemirror_mode": {
    "name": "ipython",
    "version": 3
   },
   "file_extension": ".py",
   "mimetype": "text/x-python",
   "name": "python",
   "nbconvert_exporter": "python",
   "pygments_lexer": "ipython3",
   "version": "3.7.0"
  }
 },
 "nbformat": 4,
 "nbformat_minor": 2
}
