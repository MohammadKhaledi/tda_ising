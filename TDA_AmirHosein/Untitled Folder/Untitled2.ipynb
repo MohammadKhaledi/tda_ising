{
 "cells": [
  {
   "cell_type": "code",
   "execution_count": null,
   "metadata": {},
   "outputs": [],
   "source": [
    "import numpy as np\n",
    "import random as rnd\n",
    "import math as m\n",
    "import dionysus as sus\n",
    "import matplotlib.pyplot as plt\n",
    "from math import *\n",
    "\n",
    "rv=[]\n",
    "for j in range(0 , 2):\n",
    "        points = np.zeros((1000,2))\n",
    "        for i in range (0,1000) :\n",
    "    \n",
    "                 points[i][0]=rnd.random()\n",
    "                 points[i][1]=rnd.random()\n",
    "        f=sus.fill_rips(points,2,.2)\n",
    "        m=sus.homology_persistence(f)\n",
    "        dgms = sus.init_diagrams(m, f)\n",
    "\n",
    "        \n",
    "        I=[]\n",
    "        persist=[]\n",
    "        r=[]\n",
    "        for i, dgm in enumerate(dgms):\n",
    "    \n",
    "              for pt in dgm:\n",
    "            \n",
    "                    I.append(i)\n",
    "                    persist.append(1000*pi*((pt.death)**2-(pt.birth)**2))\n",
    "                    r.append((pt.birth)**2*1000*pi)\n",
    "        pa=[]\n",
    "        ra=[]\n",
    "       \n",
    "        for i in range (0, len(persist)):\n",
    "            if persist[i]!= inf and I[i]==1:\n",
    "                    pa.append(persist[i])\n",
    "                    ra.append(r[i])\n",
    "        pa=np.array(pa)\n",
    "        ra=np.array(ra)\n",
    "        rv.append(ra[pa==np.max(pa)])     \n",
    "print(np.average(rv))        \n"
   ]
  },
  {
   "cell_type": "code",
   "execution_count": null,
   "metadata": {},
   "outputs": [],
   "source": []
  }
 ],
 "metadata": {
  "kernelspec": {
   "display_name": "Python 3",
   "language": "python",
   "name": "python3"
  },
  "language_info": {
   "codemirror_mode": {
    "name": "ipython",
    "version": 3
   },
   "file_extension": ".py",
   "mimetype": "text/x-python",
   "name": "python",
   "nbconvert_exporter": "python",
   "pygments_lexer": "ipython3",
   "version": "3.7.0"
  }
 },
 "nbformat": 4,
 "nbformat_minor": 2
}
