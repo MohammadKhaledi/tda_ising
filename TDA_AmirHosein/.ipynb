{
 "cells": [
  {
   "cell_type": "code",
   "execution_count": 20,
   "metadata": {},
   "outputs": [],
   "source": [
    "import numpy as np\n",
    "import dionysus as sus\n",
    "#after read data with numpy\n",
    "def embedding(data,method,t):\n",
    "    x,y,z=[],[],[]\n",
    "    n=data.shape[0]\n",
    "    if method ==0 :\n",
    "        for i in range(0,n):\n",
    "            for j in range (0,n):\n",
    "                x.append(i)\n",
    "                y.append(j)\n",
    "                z.append(data[i][j])\n",
    "            return np.array(list(zip(x,y,z)))      \n",
    "    else :\n",
    "        for k in range(0,n):\n",
    "            for m in range (0,n):\n",
    "                if data[k][m] >= t:\n",
    "                    x.append(k)\n",
    "                    y.append(m)\n",
    "        return  np.array(list(zip(x,y)))\n",
    "        \n",
    "        \n",
    "    "
   ]
  },
  {
   "cell_type": "code",
   "execution_count": 21,
   "metadata": {},
   "outputs": [
    {
     "ename": "SyntaxError",
     "evalue": "invalid syntax (<ipython-input-21-3d442ca7cac5>, line 2)",
     "output_type": "error",
     "traceback": [
      "\u001b[0;36m  File \u001b[0;32m\"<ipython-input-21-3d442ca7cac5>\"\u001b[0;36m, line \u001b[0;32m2\u001b[0m\n\u001b[0;31m    method=\u001b[0m\n\u001b[0m           ^\u001b[0m\n\u001b[0;31mSyntaxError\u001b[0m\u001b[0;31m:\u001b[0m invalid syntax\n"
     ]
    }
   ],
   "source": [
    "data=a=np.loadtxt('')\n",
    "method=\n",
    "t=  \n",
    "p=embedding(data,method,t)\n",
    "f=sus.fill_rips(p,d,mr)\n",
    "m=sus.homology_persistence(f)\n",
    "dgms = sus.init_diagrams(m, f)\n"
   ]
  },
  {
   "cell_type": "code",
   "execution_count": null,
   "metadata": {},
   "outputs": [],
   "source": []
  },
  {
   "cell_type": "code",
   "execution_count": null,
   "metadata": {},
   "outputs": [],
   "source": []
  }
 ],
 "metadata": {
  "kernelspec": {
   "display_name": "Python 3",
   "language": "python",
   "name": "python3"
  },
  "language_info": {
   "codemirror_mode": {
    "name": "ipython",
    "version": 3
   },
   "file_extension": ".py",
   "mimetype": "text/x-python",
   "name": "python",
   "nbconvert_exporter": "python",
   "pygments_lexer": "ipython3",
   "version": "3.7.0"
  }
 },
 "nbformat": 4,
 "nbformat_minor": 2
}
